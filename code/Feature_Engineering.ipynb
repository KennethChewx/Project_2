{
 "cells": [
  {
   "cell_type": "markdown",
   "metadata": {},
   "source": [
    "## Pre-processing\n",
    "- One-hot encode categorical variables.\n",
    "- Train/test split your data.\n",
    "- Scale your data.\n",
    "- Consider using automated feature selection.\n",
    "\n",
    "## Modeling\n",
    "- **Establish your baseline score.**\n",
    "- Fit linear regression. Look at your coefficients. Are any of them wildly overblown?\n",
    "- Fit lasso/ridge/elastic net with default parameters.\n",
    "- Go back and remove features that might be causing issues in your models.\n",
    "- Tune hyperparameters.\n",
    "- **Identify a production model.** (This does not have to be your best performing Kaggle model, but rather the model that best answers your problem statement.)\n",
    "- Refine and interpret your production model.\n",
    "\n",
    "## Inferential Visualizations\n",
    "- Look at feature loadings.\n",
    "- Look at how accurate your predictions are.\n",
    "- Is there a pattern to your errors? Consider reworking your model to address this.\n",
    "\n",
    "## Business Recommendations\n",
    "- Which features appear to add the most value to a home?\n",
    "- Which features hurt the value of a home the most?\n",
    "- What are things that homeowners could improve in their homes to increase the value?\n",
    "- What neighborhoods seem like they might be a good investment?\n",
    "- Do you feel that this model will generalize to other cities? How could you revise your model to make it more universal OR what date would you need from another city to make a comparable model?\n",
    "\n",
    "```\n",
    "project-2\n",
    "|__ code\n",
    "|   |__ 01_EDA_and_Cleaning.ipynb   \n",
    "|   |__ 02_Preprocessing_and_Feature_Engineering.ipynb   \n",
    "|   |__ 03_Model_Benchmarks.ipynb\n",
    "|   |__ 04_Model_Tuning.ipynb  \n",
    "|   |__ 05_Production_Model_and_Insights.ipynb\n",
    "|   |__ 06_Kaggle_Submissions.ipynb   \n",
    "|__ data\n",
    "|   |__ train.csv\n",
    "|   |__ test.csv\n",
    "|   |__ submission_lasso.csv\n",
    "|   |__ submission_ridge.csv\n",
    "|__ images\n",
    "|   |__ coefficients.png\n",
    "|   |__ neighborhoods.png\n",
    "|   |__ predictions.png\n",
    "|__ presentation.pdf\n",
    "|__ README.md\n",
    "```"
   ]
  },
  {
   "cell_type": "code",
   "execution_count": 1,
   "metadata": {},
   "outputs": [],
   "source": [
    "import pandas as pd\n",
    "import numpy as np\n",
    "import seaborn as sns\n",
    "import matplotlib.pyplot as plt\n",
    "from sklearn.linear_model import LinearRegression, LassoCV, RidgeCV\n",
    "from sklearn.preprocessing import PolynomialFeatures, StandardScaler\n",
    "from sklearn.model_selection import train_test_split, cross_val_score, cross_val_predict, KFold\n",
    "from sklearn.metrics import r2_score, mean_squared_error\n",
    "\n",
    "%matplotlib inline"
   ]
  },
  {
   "cell_type": "code",
   "execution_count": 2,
   "metadata": {},
   "outputs": [],
   "source": [
    "#Get cleaned datasets: Not touching main test set first\n",
    "test = '../datasets/test_cleaned.csv'\n",
    "train = '../datasets/train_cleaned.csv'"
   ]
  },
  {
   "cell_type": "code",
   "execution_count": 3,
   "metadata": {},
   "outputs": [],
   "source": [
    "# Read csv the clean files\n",
    "test = pd.read_csv(test)\n",
    "train = pd.read_csv(train)\n",
    "train.drop('Unnamed: 0',axis = 1,inplace=True)\n",
    "test.drop('Unnamed: 0',axis = 1,inplace=True)\n",
    "# Combine train and test scores first\n",
    "df = pd.concat([test,train],ignore_index=True,sort=False)"
   ]
  },
  {
   "cell_type": "code",
   "execution_count": 4,
   "metadata": {},
   "outputs": [
    {
     "data": {
      "text/html": [
       "<div>\n",
       "<style scoped>\n",
       "    .dataframe tbody tr th:only-of-type {\n",
       "        vertical-align: middle;\n",
       "    }\n",
       "\n",
       "    .dataframe tbody tr th {\n",
       "        vertical-align: top;\n",
       "    }\n",
       "\n",
       "    .dataframe thead th {\n",
       "        text-align: right;\n",
       "    }\n",
       "</style>\n",
       "<table border=\"1\" class=\"dataframe\">\n",
       "  <thead>\n",
       "    <tr style=\"text-align: right;\">\n",
       "      <th></th>\n",
       "      <th>Id</th>\n",
       "      <th>PID</th>\n",
       "      <th>MS SubClass</th>\n",
       "      <th>MS Zoning</th>\n",
       "      <th>Lot Frontage</th>\n",
       "      <th>Lot Area</th>\n",
       "      <th>Street</th>\n",
       "      <th>Alley</th>\n",
       "      <th>Lot Shape</th>\n",
       "      <th>Land Contour</th>\n",
       "      <th>...</th>\n",
       "      <th>Screen Porch</th>\n",
       "      <th>Pool Area</th>\n",
       "      <th>Pool QC</th>\n",
       "      <th>Fence</th>\n",
       "      <th>Misc Feature</th>\n",
       "      <th>Misc Val</th>\n",
       "      <th>Mo Sold</th>\n",
       "      <th>Yr Sold</th>\n",
       "      <th>Sale Type</th>\n",
       "      <th>SalePrice</th>\n",
       "    </tr>\n",
       "  </thead>\n",
       "  <tbody>\n",
       "    <tr>\n",
       "      <th>0</th>\n",
       "      <td>2658</td>\n",
       "      <td>902301120</td>\n",
       "      <td>190</td>\n",
       "      <td>RM</td>\n",
       "      <td>69.0</td>\n",
       "      <td>9142</td>\n",
       "      <td>0</td>\n",
       "      <td>Grvl</td>\n",
       "      <td>3</td>\n",
       "      <td>Lvl</td>\n",
       "      <td>...</td>\n",
       "      <td>0</td>\n",
       "      <td>0</td>\n",
       "      <td>0</td>\n",
       "      <td>0</td>\n",
       "      <td>None</td>\n",
       "      <td>0</td>\n",
       "      <td>4</td>\n",
       "      <td>2006</td>\n",
       "      <td>WD</td>\n",
       "      <td>NaN</td>\n",
       "    </tr>\n",
       "    <tr>\n",
       "      <th>1</th>\n",
       "      <td>2718</td>\n",
       "      <td>905108090</td>\n",
       "      <td>90</td>\n",
       "      <td>RL</td>\n",
       "      <td>0.0</td>\n",
       "      <td>9662</td>\n",
       "      <td>0</td>\n",
       "      <td>None</td>\n",
       "      <td>2</td>\n",
       "      <td>Lvl</td>\n",
       "      <td>...</td>\n",
       "      <td>0</td>\n",
       "      <td>0</td>\n",
       "      <td>0</td>\n",
       "      <td>0</td>\n",
       "      <td>None</td>\n",
       "      <td>0</td>\n",
       "      <td>8</td>\n",
       "      <td>2006</td>\n",
       "      <td>WD</td>\n",
       "      <td>NaN</td>\n",
       "    </tr>\n",
       "    <tr>\n",
       "      <th>2</th>\n",
       "      <td>2414</td>\n",
       "      <td>528218130</td>\n",
       "      <td>60</td>\n",
       "      <td>RL</td>\n",
       "      <td>58.0</td>\n",
       "      <td>17104</td>\n",
       "      <td>0</td>\n",
       "      <td>None</td>\n",
       "      <td>2</td>\n",
       "      <td>Lvl</td>\n",
       "      <td>...</td>\n",
       "      <td>0</td>\n",
       "      <td>0</td>\n",
       "      <td>0</td>\n",
       "      <td>0</td>\n",
       "      <td>None</td>\n",
       "      <td>0</td>\n",
       "      <td>9</td>\n",
       "      <td>2006</td>\n",
       "      <td>New</td>\n",
       "      <td>NaN</td>\n",
       "    </tr>\n",
       "    <tr>\n",
       "      <th>3</th>\n",
       "      <td>1989</td>\n",
       "      <td>902207150</td>\n",
       "      <td>30</td>\n",
       "      <td>RM</td>\n",
       "      <td>60.0</td>\n",
       "      <td>8520</td>\n",
       "      <td>0</td>\n",
       "      <td>None</td>\n",
       "      <td>3</td>\n",
       "      <td>Lvl</td>\n",
       "      <td>...</td>\n",
       "      <td>0</td>\n",
       "      <td>0</td>\n",
       "      <td>0</td>\n",
       "      <td>0</td>\n",
       "      <td>None</td>\n",
       "      <td>0</td>\n",
       "      <td>7</td>\n",
       "      <td>2007</td>\n",
       "      <td>WD</td>\n",
       "      <td>NaN</td>\n",
       "    </tr>\n",
       "    <tr>\n",
       "      <th>4</th>\n",
       "      <td>625</td>\n",
       "      <td>535105100</td>\n",
       "      <td>20</td>\n",
       "      <td>RL</td>\n",
       "      <td>0.0</td>\n",
       "      <td>9500</td>\n",
       "      <td>0</td>\n",
       "      <td>None</td>\n",
       "      <td>2</td>\n",
       "      <td>Lvl</td>\n",
       "      <td>...</td>\n",
       "      <td>185</td>\n",
       "      <td>0</td>\n",
       "      <td>0</td>\n",
       "      <td>0</td>\n",
       "      <td>None</td>\n",
       "      <td>0</td>\n",
       "      <td>7</td>\n",
       "      <td>2009</td>\n",
       "      <td>WD</td>\n",
       "      <td>NaN</td>\n",
       "    </tr>\n",
       "  </tbody>\n",
       "</table>\n",
       "<p>5 rows × 81 columns</p>\n",
       "</div>"
      ],
      "text/plain": [
       "     Id        PID  MS SubClass MS Zoning  Lot Frontage  Lot Area  Street  \\\n",
       "0  2658  902301120          190        RM          69.0      9142       0   \n",
       "1  2718  905108090           90        RL           0.0      9662       0   \n",
       "2  2414  528218130           60        RL          58.0     17104       0   \n",
       "3  1989  902207150           30        RM          60.0      8520       0   \n",
       "4   625  535105100           20        RL           0.0      9500       0   \n",
       "\n",
       "  Alley  Lot Shape Land Contour  ...  Screen Porch Pool Area  Pool QC Fence  \\\n",
       "0  Grvl          3          Lvl  ...             0         0        0     0   \n",
       "1  None          2          Lvl  ...             0         0        0     0   \n",
       "2  None          2          Lvl  ...             0         0        0     0   \n",
       "3  None          3          Lvl  ...             0         0        0     0   \n",
       "4  None          2          Lvl  ...           185         0        0     0   \n",
       "\n",
       "  Misc Feature Misc Val Mo Sold Yr Sold  Sale Type  SalePrice  \n",
       "0         None        0       4    2006        WD         NaN  \n",
       "1         None        0       8    2006        WD         NaN  \n",
       "2         None        0       9    2006        New        NaN  \n",
       "3         None        0       7    2007        WD         NaN  \n",
       "4         None        0       7    2009        WD         NaN  \n",
       "\n",
       "[5 rows x 81 columns]"
      ]
     },
     "execution_count": 4,
     "metadata": {},
     "output_type": "execute_result"
    }
   ],
   "source": [
    "df.head()"
   ]
  },
  {
   "cell_type": "markdown",
   "metadata": {},
   "source": [
    "## Feature engineering, polynomial features and creating dummies for nominal features"
   ]
  },
  {
   "cell_type": "code",
   "execution_count": 5,
   "metadata": {},
   "outputs": [],
   "source": [
    "# Combining features in continuous and discrete columns\n",
    "df['total_bathrooms'] = df['Bsmt Full Bath'] + df['Bsmt Half Bath']*0.5 + df['Full Bath'] + df['Half Bath']*0.5\n",
    "df['porch_sf'] = df['Wood Deck SF'] + df['Open Porch SF'] + df['Enclosed Porch'] + df['3Ssn Porch'] + df['Screen Porch']"
   ]
  },
  {
   "cell_type": "code",
   "execution_count": 6,
   "metadata": {},
   "outputs": [],
   "source": [
    "# Based on domain knowledge, the following features might be considered to be strong predictors of sale price\n",
    "features = ['Lot Area','Total Bsmt SF','Gr Liv Area','porch_sf','total_bathrooms',\n",
    "            'TotRms AbvGrd','Bedroom AbvGr','Garage Area','Overall Cond','Overall Qual',\n",
    "           'Fireplaces','Neighborhood','MS SubClass','MS Zoning','Utilities','Foundation',\n",
    "           'Heating','Garage Type','Year Built','Year Remod/Add','Misc Val','Misc Feature']\n",
    "features_target = features + ['SalePrice']"
   ]
  },
  {
   "cell_type": "code",
   "execution_count": 7,
   "metadata": {},
   "outputs": [],
   "source": [
    "# MS Subclass should be nominal\n",
    "df['MS SubClass'] = df['MS SubClass'].astype(str)"
   ]
  },
  {
   "cell_type": "code",
   "execution_count": 8,
   "metadata": {},
   "outputs": [
    {
     "data": {
      "image/png": "[encoded data removed]",
      "text/plain": [
       "<Figure size 720x576 with 2 Axes>"
      ]
     },
     "metadata": {
      "needs_background": "light"
     },
     "output_type": "display_data"
    }
   ],
   "source": [
    "# Explore correlation to target:\n",
    "fig, ax = plt.subplots(figsize=(10,8))\n",
    "sns.heatmap(df[features_target].corr()[['SalePrice']].sort_values('SalePrice').head(20),\n",
    "            vmax=1, vmin=-1, cmap='YlGnBu', annot=True, ax=ax);\n",
    "ax.invert_yaxis()"
   ]
  },
  {
   "cell_type": "markdown",
   "metadata": {},
   "source": [
    "## High correlation with target:\n",
    "\n",
    "We see that Overall quality has a strong correlation with the target value (0.8), and it is advisable to drop the overall quality feature. The rest of the correlation seems to be reasonable."
   ]
  },
  {
   "cell_type": "code",
   "execution_count": 9,
   "metadata": {},
   "outputs": [
    {
     "name": "stdout",
     "output_type": "stream",
     "text": [
      "Lot Area         Lot Area           1.000000\n",
      "Gr Liv Area      TotRms AbvGrd      0.809118\n",
      "TotRms AbvGrd    Gr Liv Area        0.809118\n",
      "SalePrice        Overall Qual       0.803462\n",
      "Overall Qual     SalePrice          0.803462\n",
      "Gr Liv Area      SalePrice          0.719463\n",
      "SalePrice        Gr Liv Area        0.719463\n",
      "TotRms AbvGrd    Bedroom AbvGr      0.679696\n",
      "Bedroom AbvGr    TotRms AbvGrd      0.679696\n",
      "SalePrice        Total Bsmt SF      0.665116\n",
      "Total Bsmt SF    SalePrice          0.665116\n",
      "SalePrice        Garage Area        0.655097\n",
      "Garage Area      SalePrice          0.655097\n",
      "total_bathrooms  SalePrice          0.632542\n",
      "SalePrice        total_bathrooms    0.632542\n",
      "dtype: float64\n"
     ]
    }
   ],
   "source": [
    "# Explore multi-collinearity:\n",
    "corr = df[features_target].corr().abs()\n",
    "unstack_corr = corr.unstack()\n",
    "corr_sort = unstack_corr.sort_values(ascending = False)\n",
    "\n",
    "print(corr_sort[15:30])"
   ]
  },
  {
   "cell_type": "markdown",
   "metadata": {},
   "source": [
    "## High correlation with each other:\n",
    "\n",
    "From the correlation table, we can see that General living area and Total rooms above grade are highly correlated. Judging that Gr Liv Area has a larger variance across houses as compared to a discrete column of total rooms above grade, the feature TotRms AbvGrd would be dropped."
   ]
  },
  {
   "cell_type": "code",
   "execution_count": 10,
   "metadata": {},
   "outputs": [],
   "source": [
    "features = [col for col in features if col not in ('TotRms AbvGrd', 'Overall Qual')]"
   ]
  },
  {
   "cell_type": "code",
   "execution_count": 11,
   "metadata": {},
   "outputs": [],
   "source": [
    "# Define the feature\n",
    "X = df[features]"
   ]
  },
  {
   "cell_type": "markdown",
   "metadata": {},
   "source": [
    "## Polynomial Features\n",
    "\n",
    "In consideration for sale price which is a continuous variable, I would look at the polynomial interaction effects of all numeric features"
   ]
  },
  {
   "cell_type": "code",
   "execution_count": 12,
   "metadata": {},
   "outputs": [],
   "source": [
    "# Separate numeric and nominal features\n",
    "num_feats = [col for col in df[features] if df[col].dtypes != 'object']\n",
    "X_num = df[num_feats]\n",
    "# Generating all polynomial features\n",
    "poly = PolynomialFeatures(degree = 2, interaction_only = True, include_bias = False)\n",
    "X_poly = poly.fit_transform(X_num)"
   ]
  },
  {
   "cell_type": "code",
   "execution_count": 13,
   "metadata": {},
   "outputs": [],
   "source": [
    "# Get dataframe of Polynomial features\n",
    "X_num_poly = pd.DataFrame(X_poly, columns = poly.get_feature_names(X_num.columns))"
   ]
  },
  {
   "cell_type": "code",
   "execution_count": 14,
   "metadata": {},
   "outputs": [],
   "source": [
    "# Recombining numeric and nominal features\n",
    "nom_feats = [col for col in df[features] if df[col].dtypes == 'object']\n",
    "X = pd.concat([X_num_poly, df[nom_feats]], axis=1)"
   ]
  },
  {
   "cell_type": "code",
   "execution_count": 15,
   "metadata": {},
   "outputs": [],
   "source": [
    "# Create dummies for nominal features\n",
    "X = pd.get_dummies(X, drop_first = True)"
   ]
  },
  {
   "cell_type": "code",
   "execution_count": 16,
   "metadata": {},
   "outputs": [],
   "source": [
    "# Important to split out the train and test set here, and only use the train set for modeling.\n",
    "# Add back the sale price column to the polynomial feature dataframe\n",
    "X = pd.concat([X,df['SalePrice']],axis = 1)\n",
    "# Add back the ID column for test submission at the end\n",
    "X = pd.concat([X,df['Id']],axis = 1)"
   ]
  },
  {
   "cell_type": "code",
   "execution_count": 17,
   "metadata": {},
   "outputs": [],
   "source": [
    "# split out the test and the train set manually \n",
    "test = X[X['SalePrice'].isnull()]\n",
    "X = X[X['SalePrice'].notnull()]"
   ]
  },
  {
   "cell_type": "code",
   "execution_count": 18,
   "metadata": {},
   "outputs": [],
   "source": [
    "# Separate out the target train and test sets\n",
    "y = X['SalePrice']\n",
    "# remove the target column in train set\n",
    "X.drop(columns='SalePrice',inplace = True)"
   ]
  },
  {
   "cell_type": "markdown",
   "metadata": {},
   "source": [
    "## Train test split, standardizing and modeling with Linear regression, Lasso and Ridge"
   ]
  },
  {
   "cell_type": "code",
   "execution_count": 19,
   "metadata": {},
   "outputs": [],
   "source": [
    "# Train test split\n",
    "X_train, X_test, y_train, y_test = train_test_split(X, y, test_size =0.2, random_state=42)"
   ]
  },
  {
   "cell_type": "markdown",
   "metadata": {},
   "source": [
    "## Standardizing"
   ]
  },
  {
   "cell_type": "code",
   "execution_count": 20,
   "metadata": {},
   "outputs": [],
   "source": [
    "# Standardizing\n",
    "stdsc = StandardScaler()\n",
    "stdsc.fit(X_train)\n",
    "X_train = stdsc.transform(X_train)\n",
    "X_test = stdsc.transform(X_test)"
   ]
  },
  {
   "cell_type": "markdown",
   "metadata": {},
   "source": [
    "## Linear Regression"
   ]
  },
  {
   "cell_type": "code",
   "execution_count": 21,
   "metadata": {},
   "outputs": [
    {
     "data": {
      "text/plain": [
       "LinearRegression(copy_X=True, fit_intercept=True, n_jobs=None, normalize=False)"
      ]
     },
     "execution_count": 21,
     "metadata": {},
     "output_type": "execute_result"
    }
   ],
   "source": [
    "# Assume linear regression as target is continuous variable\n",
    "linreg = LinearRegression()\n",
    "linreg.fit(X_train,y_train)"
   ]
  },
  {
   "cell_type": "code",
   "execution_count": 22,
   "metadata": {},
   "outputs": [
    {
     "name": "stdout",
     "output_type": "stream",
     "text": [
      "LR cross_val_score -2.4251654469101097e+19\n",
      "LR train r2 = 0.9236393501829049\n",
      "LR test r2 = -4.990231285405756e+18\n",
      "LR MSE = 2.9766680765545263e+28\n"
     ]
    }
   ],
   "source": [
    "# Linear regression metrics\n",
    "print(\"LR cross_val_score\", cross_val_score(linreg, X_train, y_train, cv=5).mean())\n",
    "print('LR train r2 =', linreg.score(X_train, y_train))\n",
    "print('LR test r2 =', linreg.score(X_test, y_test))\n",
    "mse = mean_squared_error(y_test, linreg.predict(X_test))\n",
    "print('LR MSE =', mse)"
   ]
  },
  {
   "cell_type": "markdown",
   "metadata": {},
   "source": [
    "## LassoCV model"
   ]
  },
  {
   "cell_type": "code",
   "execution_count": 23,
   "metadata": {},
   "outputs": [
    {
     "name": "stderr",
     "output_type": "stream",
     "text": [
      "C:\\Users\\n3rDx\\Anaconda3\\lib\\site-packages\\sklearn\\linear_model\\coordinate_descent.py:475: ConvergenceWarning: Objective did not converge. You might want to increase the number of iterations. Duality gap: 35148501975.05469, tolerance: 1042865239.731502\n",
      "  positive)\n"
     ]
    },
    {
     "data": {
      "text/plain": [
       "LassoCV(alphas=None, copy_X=True, cv=5, eps=0.001, fit_intercept=True,\n",
       "        max_iter=1000, n_alphas=3000, n_jobs=-1, normalize=False,\n",
       "        positive=False, precompute='auto', random_state=None,\n",
       "        selection='cyclic', tol=0.0001, verbose=False)"
      ]
     },
     "execution_count": 23,
     "metadata": {},
     "output_type": "execute_result"
    }
   ],
   "source": [
    "lasso = LassoCV(n_alphas=3000,cv=5,n_jobs=-1)\n",
    "lasso.fit(X_train,y_train)"
   ]
  },
  {
   "cell_type": "code",
   "execution_count": 24,
   "metadata": {},
   "outputs": [
    {
     "name": "stdout",
     "output_type": "stream",
     "text": [
      "Lasso train r2 = 0.9087103509205867\n",
      "Lasso test r2 = 0.9112385694107505\n",
      "Lasso MSE = 529461064.53429925\n"
     ]
    }
   ],
   "source": [
    "# Lasso metrics\n",
    "print('Lasso train r2 =', lasso.score(X_train, y_train))\n",
    "print('Lasso test r2 =', lasso.score(X_test, y_test))\n",
    "mse = mean_squared_error(y_test, lasso.predict(X_test))\n",
    "print('Lasso MSE =', mse)"
   ]
  },
  {
   "cell_type": "markdown",
   "metadata": {},
   "source": [
    "## RidgeCV model"
   ]
  },
  {
   "cell_type": "code",
   "execution_count": 25,
   "metadata": {},
   "outputs": [
    {
     "data": {
      "text/plain": [
       "RidgeCV(alphas=array([1.0000000e-02, 6.0020010e-02, 1.1004002e-01, ..., 9.9899960e+01,\n",
       "       9.9949980e+01, 1.0000000e+02]),\n",
       "        cv=None, fit_intercept=True, gcv_mode=None, normalize=False,\n",
       "        scoring=None, store_cv_values=False)"
      ]
     },
     "execution_count": 25,
     "metadata": {},
     "output_type": "execute_result"
    }
   ],
   "source": [
    "ridge = RidgeCV(alphas=np.linspace(.01, 100, 2000))\n",
    "ridge.fit(X_train,y_train)"
   ]
  },
  {
   "cell_type": "code",
   "execution_count": 26,
   "metadata": {},
   "outputs": [
    {
     "name": "stdout",
     "output_type": "stream",
     "text": [
      "Ridge train r2 = 0.914727151113387\n",
      "Ridge test r2 = 0.8446813961362261\n",
      "Ridge MSE = 926473951.5549773\n"
     ]
    }
   ],
   "source": [
    "print('Ridge train r2 =', ridge.score(X_train, y_train))\n",
    "print('Ridge test r2 =', ridge.score(X_test, y_test))\n",
    "mse = mean_squared_error(y_test, ridge.predict(X_test))\n",
    "print('Ridge MSE =', mse)"
   ]
  },
  {
   "cell_type": "markdown",
   "metadata": {},
   "source": [
    "## Model comparison\n",
    "\n",
    "As comparing between the train set and the test set, we see that the difference is highest in linear regression as it is not regularised. Also, the mean square error is highest in this model. However, after regularisation, we see that the difference between r2 in test and train set is much smaller. More distictively, in the lassoCV model, we see that the model has high generalisability with r2 in train and test set of >0.9."
   ]
  },
  {
   "cell_type": "code",
   "execution_count": 27,
   "metadata": {},
   "outputs": [],
   "source": [
    "coef = pd.Series(lasso.coef_, index = (X.columns))"
   ]
  },
  {
   "cell_type": "code",
   "execution_count": 28,
   "metadata": {},
   "outputs": [
    {
     "data": {
      "text/plain": [
       "Text(0.5, 1.0, 'Feature importance using Lasso Model')"
      ]
     },
     "execution_count": 28,
     "metadata": {},
     "output_type": "execute_result"
    },
    {
     "data": {
      "image/png": "[encoded data removed]",
      "text/plain": [
       "<Figure size 432x288 with 1 Axes>"
      ]
     },
     "metadata": {
      "needs_background": "light"
     },
     "output_type": "display_data"
    }
   ],
   "source": [
    "# Positively impacting features sorted\n",
    "imp_coef = coef.sort_values().tail(10)\n",
    "imp_coef.plot(kind = \"barh\")\n",
    "plt.title(\"Feature importance using Lasso Model\")"
   ]
  },
  {
   "cell_type": "markdown",
   "metadata": {},
   "source": [
    "Looking at the coefficients of the features in the LassoCV model, it is surprising to see that the year of which the house is build is a strong factor in predicting the sale price of the house. We see that the interaction between the total available living space and also the number of total bathrooms is also an important factor, as one may look at comfort and available utilities in the house to predicting sale price. Of course, the larger and the more facilities a house has, the more expensive it should be. This is shown with the subsequent features which are interaction terms between square feet of various features. The next stronger predictor seems to be in the neighborhood, as we see that certain neighborhood are more luxurious/high-end."
   ]
  },
  {
   "cell_type": "code",
   "execution_count": 29,
   "metadata": {},
   "outputs": [
    {
     "data": {
      "text/plain": [
       "Text(0.5, 1.0, 'Feature that hurt sale prices using Lasso Model')"
      ]
     },
     "execution_count": 29,
     "metadata": {},
     "output_type": "execute_result"
    },
    {
     "data": {
      "image/png": "[encoded data removed]",
      "text/plain": [
       "<Figure size 432x288 with 1 Axes>"
      ]
     },
     "metadata": {
      "needs_background": "light"
     },
     "output_type": "display_data"
    }
   ],
   "source": [
    "# Negatively impacting features sorted\n",
    "neg_coef = coef.sort_values().head(10)\n",
    "neg_coef.plot(kind = \"barh\")\n",
    "plt.title(\"Feature that hurt sale prices using Lasso Model\")"
   ]
  },
  {
   "cell_type": "markdown",
   "metadata": {},
   "source": [
    "# Recommendations and business inferences\n",
    "From the graphs above, we see that the interaction between total basement square feet and number of bedrooms above grade negatively affects the final sale price the most. More specifically, the larger the total basement square feet, the more likely that the house will be cheap, and the same is true for the total bedrooms above grade interpretation.\n",
    "\n",
    "This may be interpreted as having lesser ground living area and less room space in each bedrooms above grade which eventually leads to a lower evaluation of the house being sold. This is also further supported above where we see that the interaction between total basement square feet and total ground living area has a large impact on sale price. People would buy houses that has the largest lot area in this consideration, but the lot area needs to depend on the space of each facilities (kitchen/basement/bedrooms/bathrooms). It is more likely that each facilities must be considered in tandem with the space available to predict the sale price.\n",
    "\n",
    "A surprising point to note however, would be that garage area negatively impacts sale price. Intuitively, we would think that the larger the garage area, the more space we have for storage and for housing our own transportation. However from outside research, we see that a garage wasn't always a part of the normal American house, until ford started mass-production in 1913. As size and number of car owners increased, so would have garage area to house them. This feature should have likely interacted with the MS Zoning, where we would more likely see that in the dense residential area where it is more modernised with transportation and dense-filled developments, the need for garage area should be less pronounced than in MS zones that are less dense and less developed, where the need for cars for transportation is stronger."
   ]
  },
  {
   "cell_type": "markdown",
   "metadata": {},
   "source": [
    "## Submission of scores"
   ]
  },
  {
   "cell_type": "code",
   "execution_count": 30,
   "metadata": {},
   "outputs": [],
   "source": [
    "test.drop(columns='SalePrice',inplace = True)"
   ]
  },
  {
   "cell_type": "code",
   "execution_count": 32,
   "metadata": {},
   "outputs": [],
   "source": [
    "# Get predicted scores from our model above\n",
    "predict = lasso.predict(test)\n",
    "submission = pd.DataFrame({\n",
    "    'Id': test['Id'],\n",
    "    'SalePrice':predict\n",
    "})"
   ]
  },
  {
   "cell_type": "code",
   "execution_count": 35,
   "metadata": {},
   "outputs": [
    {
     "data": {
      "text/html": [
       "<div>\n",
       "<style scoped>\n",
       "    .dataframe tbody tr th:only-of-type {\n",
       "        vertical-align: middle;\n",
       "    }\n",
       "\n",
       "    .dataframe tbody tr th {\n",
       "        vertical-align: top;\n",
       "    }\n",
       "\n",
       "    .dataframe thead th {\n",
       "        text-align: right;\n",
       "    }\n",
       "</style>\n",
       "<table border=\"1\" class=\"dataframe\">\n",
       "  <thead>\n",
       "    <tr style=\"text-align: right;\">\n",
       "      <th></th>\n",
       "      <th>Id</th>\n",
       "      <th>SalePrice</th>\n",
       "    </tr>\n",
       "  </thead>\n",
       "  <tbody>\n",
       "    <tr>\n",
       "      <th>0</th>\n",
       "      <td>2658</td>\n",
       "      <td>7.113061e+10</td>\n",
       "    </tr>\n",
       "    <tr>\n",
       "      <th>1</th>\n",
       "      <td>2718</td>\n",
       "      <td>1.165211e+11</td>\n",
       "    </tr>\n",
       "    <tr>\n",
       "      <th>2</th>\n",
       "      <td>2414</td>\n",
       "      <td>4.339394e+10</td>\n",
       "    </tr>\n",
       "    <tr>\n",
       "      <th>3</th>\n",
       "      <td>1989</td>\n",
       "      <td>4.843963e+10</td>\n",
       "    </tr>\n",
       "    <tr>\n",
       "      <th>4</th>\n",
       "      <td>625</td>\n",
       "      <td>7.325862e+10</td>\n",
       "    </tr>\n",
       "  </tbody>\n",
       "</table>\n",
       "</div>"
      ],
      "text/plain": [
       "     Id     SalePrice\n",
       "0  2658  7.113061e+10\n",
       "1  2718  1.165211e+11\n",
       "2  2414  4.339394e+10\n",
       "3  1989  4.843963e+10\n",
       "4   625  7.325862e+10"
      ]
     },
     "execution_count": 35,
     "metadata": {},
     "output_type": "execute_result"
    }
   ],
   "source": [
    "submission.head()"
   ]
  },
  {
   "cell_type": "code",
   "execution_count": 36,
   "metadata": {},
   "outputs": [],
   "source": [
    "submission.to_csv('../datasets/submissions.csv', index=False)"
   ]
  },
  {
   "cell_type": "code",
   "execution_count": 38,
   "metadata": {},
   "outputs": [
    {
     "ename": "TypeError",
     "evalue": "expected x and y to have same length",
     "output_type": "error",
     "traceback": [
      "\u001b[1;31m---------------------------------------------------------------------------\u001b[0m",
      "\u001b[1;31mTypeError\u001b[0m                                 Traceback (most recent call last)",
      "\u001b[1;32m<ipython-input-38-2dd8f3b184e8>\u001b[0m in \u001b[0;36m<module>\u001b[1;34m\u001b[0m\n\u001b[0;32m      1\u001b[0m \u001b[1;31m#plt.scatter(x=lasso_overfit_preds, y=y_test, c='r')\u001b[0m\u001b[1;33m\u001b[0m\u001b[1;33m\u001b[0m\u001b[1;33m\u001b[0m\u001b[0m\n\u001b[0;32m      2\u001b[0m \u001b[0mplt\u001b[0m\u001b[1;33m.\u001b[0m\u001b[0mfigure\u001b[0m\u001b[1;33m(\u001b[0m\u001b[0mfigsize\u001b[0m\u001b[1;33m=\u001b[0m\u001b[1;33m(\u001b[0m\u001b[1;36m8\u001b[0m\u001b[1;33m,\u001b[0m\u001b[1;36m8\u001b[0m\u001b[1;33m)\u001b[0m\u001b[1;33m)\u001b[0m\u001b[1;33m\u001b[0m\u001b[1;33m\u001b[0m\u001b[0m\n\u001b[1;32m----> 3\u001b[1;33m \u001b[0mm\u001b[0m\u001b[1;33m,\u001b[0m\u001b[0mb\u001b[0m \u001b[1;33m=\u001b[0m \u001b[0mnp\u001b[0m\u001b[1;33m.\u001b[0m\u001b[0mpolyfit\u001b[0m\u001b[1;33m(\u001b[0m\u001b[0mx\u001b[0m\u001b[1;33m=\u001b[0m\u001b[0mpredict\u001b[0m\u001b[1;33m,\u001b[0m \u001b[0my\u001b[0m\u001b[1;33m=\u001b[0m\u001b[0my_test\u001b[0m\u001b[1;33m,\u001b[0m \u001b[0mdeg\u001b[0m\u001b[1;33m=\u001b[0m\u001b[1;36m1\u001b[0m\u001b[1;33m)\u001b[0m\u001b[1;33m\u001b[0m\u001b[1;33m\u001b[0m\u001b[0m\n\u001b[0m\u001b[0;32m      4\u001b[0m \u001b[0mplt\u001b[0m\u001b[1;33m.\u001b[0m\u001b[0mplot\u001b[0m\u001b[1;33m(\u001b[0m\u001b[0mpredict\u001b[0m\u001b[1;33m,\u001b[0m \u001b[0my_test\u001b[0m\u001b[1;33m,\u001b[0m \u001b[1;34m'.'\u001b[0m\u001b[1;33m)\u001b[0m\u001b[1;33m\u001b[0m\u001b[1;33m\u001b[0m\u001b[0m\n\u001b[0;32m      5\u001b[0m \u001b[0mplt\u001b[0m\u001b[1;33m.\u001b[0m\u001b[0mplot\u001b[0m\u001b[1;33m(\u001b[0m\u001b[0mpredict\u001b[0m\u001b[1;33m,\u001b[0m \u001b[0mb\u001b[0m \u001b[1;33m+\u001b[0m \u001b[0mm\u001b[0m \u001b[1;33m*\u001b[0m \u001b[0mpredict\u001b[0m\u001b[1;33m,\u001b[0m \u001b[1;34m'-'\u001b[0m\u001b[1;33m,\u001b[0m \u001b[0mcolor\u001b[0m\u001b[1;33m=\u001b[0m\u001b[1;34m'k'\u001b[0m\u001b[1;33m)\u001b[0m\u001b[1;33m\u001b[0m\u001b[1;33m\u001b[0m\u001b[0m\n",
      "\u001b[1;32m~\\Anaconda3\\lib\\site-packages\\numpy\\lib\\polynomial.py\u001b[0m in \u001b[0;36mpolyfit\u001b[1;34m(x, y, deg, rcond, full, w, cov)\u001b[0m\n\u001b[0;32m    600\u001b[0m         \u001b[1;32mraise\u001b[0m \u001b[0mTypeError\u001b[0m\u001b[1;33m(\u001b[0m\u001b[1;34m\"expected 1D or 2D array for y\"\u001b[0m\u001b[1;33m)\u001b[0m\u001b[1;33m\u001b[0m\u001b[1;33m\u001b[0m\u001b[0m\n\u001b[0;32m    601\u001b[0m     \u001b[1;32mif\u001b[0m \u001b[0mx\u001b[0m\u001b[1;33m.\u001b[0m\u001b[0mshape\u001b[0m\u001b[1;33m[\u001b[0m\u001b[1;36m0\u001b[0m\u001b[1;33m]\u001b[0m \u001b[1;33m!=\u001b[0m \u001b[0my\u001b[0m\u001b[1;33m.\u001b[0m\u001b[0mshape\u001b[0m\u001b[1;33m[\u001b[0m\u001b[1;36m0\u001b[0m\u001b[1;33m]\u001b[0m\u001b[1;33m:\u001b[0m\u001b[1;33m\u001b[0m\u001b[1;33m\u001b[0m\u001b[0m\n\u001b[1;32m--> 602\u001b[1;33m         \u001b[1;32mraise\u001b[0m \u001b[0mTypeError\u001b[0m\u001b[1;33m(\u001b[0m\u001b[1;34m\"expected x and y to have same length\"\u001b[0m\u001b[1;33m)\u001b[0m\u001b[1;33m\u001b[0m\u001b[1;33m\u001b[0m\u001b[0m\n\u001b[0m\u001b[0;32m    603\u001b[0m \u001b[1;33m\u001b[0m\u001b[0m\n\u001b[0;32m    604\u001b[0m     \u001b[1;31m# set rcond\u001b[0m\u001b[1;33m\u001b[0m\u001b[1;33m\u001b[0m\u001b[1;33m\u001b[0m\u001b[0m\n",
      "\u001b[1;31mTypeError\u001b[0m: expected x and y to have same length"
     ]
    },
    {
     "data": {
      "text/plain": [
       "<Figure size 576x576 with 0 Axes>"
      ]
     },
     "metadata": {},
     "output_type": "display_data"
    }
   ],
   "source": [
    "#plt.scatter(x=lasso_overfit_preds, y=y_test, c='r')\n",
    "plt.figure(figsize=(8,8))\n",
    "m,b = np.polyfit(x=predict, y=y_test, deg=1)\n",
    "plt.plot(predict, y_test, '.')\n",
    "plt.plot(predict, b + m * predict, '-', color='k')\n",
    "frame1 = plt.gca()\n",
    "#frame1.axes.get_xaxis().set_ticks([])\n",
    "#frame1.axes.get_yaxis().set_ticks([])\n",
    "plt.xlabel('Predicted Sale Price')\n",
    "plt.ylabel('Actual Sale Price')\n",
    "plt.title('Predicted Sale Price vs Actual Sale Price')"
   ]
  },
  {
   "cell_type": "code",
   "execution_count": 41,
   "metadata": {},
   "outputs": [
    {
     "data": {
      "text/plain": [
       "Text(0.5, 1.0, 'Predicted Sale Price vs Actual Sale Price')"
      ]
     },
     "execution_count": 41,
     "metadata": {},
     "output_type": "execute_result"
    },
    {
     "data": {
      "image/png": "[encoded data removed]",
      "text/plain": [
       "<Figure size 576x576 with 1 Axes>"
      ]
     },
     "metadata": {
      "needs_background": "light"
     },
     "output_type": "display_data"
    }
   ],
   "source": [
    "#plt.scatter(x=lasso_overfit_preds, y=y_test, c='r')\n",
    "plt.figure(figsize=(8,8))\n",
    "m,b = np.polyfit(x=lasso.predict(X_test), y=y_test, deg=1)\n",
    "plt.plot(lasso.predict(X_test), y_test, '.')\n",
    "plt.plot(lasso.predict(X_test), b + m * lasso.predict(X_test), '-', color='k')\n",
    "frame1 = plt.gca()\n",
    "#frame1.axes.get_xaxis().set_ticks([])\n",
    "#frame1.axes.get_yaxis().set_ticks([])\n",
    "plt.xlabel('Predicted Sale Price')\n",
    "plt.ylabel('Actual Sale Price')\n",
    "plt.title('Predicted Sale Price vs Actual Sale Price')"
   ]
  }
 ],
 "metadata": {
  "kernelspec": {
   "display_name": "Python 3",
   "language": "python",
   "name": "python3"
  },
  "language_info": {
   "codemirror_mode": {
    "name": "ipython",
    "version": 3
   },
   "file_extension": ".py",
   "mimetype": "text/x-python",
   "name": "python",
   "nbconvert_exporter": "python",
   "pygments_lexer": "ipython3",
   "version": "3.6.8"
  }
 },
 "nbformat": 4,
 "nbformat_minor": 2
}
