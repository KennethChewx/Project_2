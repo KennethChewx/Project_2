{
 "cells": [
  {
   "cell_type": "markdown",
   "metadata": {},
   "source": [
    "\n",
    "## Data Cleaning\n",
    "- Decide how to impute null values.\n",
    "- Decide how to handle outliers.\n",
    "- Do you want to combine any features?\n",
    "- Do you want to have interaction terms?\n",
    "- Do you want to manually drop collinear features?\n",
    "\n",
    "## Exploratory Visualizations\n",
    "- Look at distributions.\n",
    "- Look at correlations.\n",
    "- Look at relationships to target (scatter plots for continuous, box plots for categorical).\n",
    "\n",
    "## Pre-processing\n",
    "- One-hot encode categorical variables.\n",
    "- Train/test split your data.\n",
    "- Scale your data.\n",
    "- Consider using automated feature selection.\n",
    "\n",
    "```\n",
    "project-2\n",
    "|__ code\n",
    "|   |__ 01_EDA_and_Cleaning.ipynb   \n",
    "|   |__ 02_Preprocessing_and_Feature_Engineering.ipynb   \n",
    "|   |__ 03_Model_Benchmarks.ipynb\n",
    "|   |__ 04_Model_Tuning.ipynb  \n",
    "|   |__ 05_Production_Model_and_Insights.ipynb\n",
    "|   |__ 06_Kaggle_Submissions.ipynb   \n",
    "|__ data\n",
    "|   |__ train.csv\n",
    "|   |__ test.csv\n",
    "|   |__ submission_lasso.csv\n",
    "|   |__ submission_ridge.csv\n",
    "|__ images\n",
    "|   |__ coefficients.png\n",
    "|   |__ neighborhoods.png\n",
    "|   |__ predictions.png\n",
    "|__ presentation.pdf\n",
    "|__ README.md\n",
    "```"
   ]
  },
  {
   "cell_type": "code",
   "execution_count": 1,
   "metadata": {},
   "outputs": [],
   "source": [
    "import pandas as pd\n",
    "import numpy as np\n",
    "import matplotlib.pyplot as plt\n",
    "import seaborn as sns\n",
    "from scipy import stats\n",
    "\n",
    "%matplotlib inline"
   ]
  },
  {
   "cell_type": "code",
   "execution_count": 10,
   "metadata": {},
   "outputs": [],
   "source": [
    "#Get cleaned datasets:\n",
    "test = '../datasets/test_cleaned.csv'\n",
    "train = '../datasets/train_cleaned.csv'"
   ]
  },
  {
   "cell_type": "code",
   "execution_count": 11,
   "metadata": {},
   "outputs": [],
   "source": [
    "test = pd.read_csv(test)\n",
    "train = pd.read_csv(train)"
   ]
  },
  {
   "cell_type": "code",
   "execution_count": 12,
   "metadata": {},
   "outputs": [],
   "source": [
    "#Annotate test and train sets\n",
    "test['Is_test'] = 1\n",
    "train['Is_test'] = 0\n",
    "df = pd.concat([test,train],ignore_index=True,sort=False)\n",
    "y = df['SalePrice']\n",
    "df.drop('Unnamed: 0',axis = 1,inplace=True)"
   ]
  },
  {
   "cell_type": "code",
   "execution_count": 13,
   "metadata": {},
   "outputs": [
    {
     "data": {
      "text/html": [
       "<div>\n",
       "<style scoped>\n",
       "    .dataframe tbody tr th:only-of-type {\n",
       "        vertical-align: middle;\n",
       "    }\n",
       "\n",
       "    .dataframe tbody tr th {\n",
       "        vertical-align: top;\n",
       "    }\n",
       "\n",
       "    .dataframe thead th {\n",
       "        text-align: right;\n",
       "    }\n",
       "</style>\n",
       "<table border=\"1\" class=\"dataframe\">\n",
       "  <thead>\n",
       "    <tr style=\"text-align: right;\">\n",
       "      <th></th>\n",
       "      <th>MS SubClass</th>\n",
       "      <th>MS Zoning</th>\n",
       "      <th>Lot Frontage</th>\n",
       "      <th>Lot Area</th>\n",
       "      <th>Street</th>\n",
       "      <th>Alley</th>\n",
       "      <th>Lot Shape</th>\n",
       "      <th>Land Contour</th>\n",
       "      <th>Utilities</th>\n",
       "      <th>Lot Config</th>\n",
       "      <th>...</th>\n",
       "      <th>Pool Area</th>\n",
       "      <th>Pool QC</th>\n",
       "      <th>Fence</th>\n",
       "      <th>Misc Feature</th>\n",
       "      <th>Misc Val</th>\n",
       "      <th>Mo Sold</th>\n",
       "      <th>Yr Sold</th>\n",
       "      <th>Sale Type</th>\n",
       "      <th>Is_test</th>\n",
       "      <th>SalePrice</th>\n",
       "    </tr>\n",
       "  </thead>\n",
       "  <tbody>\n",
       "    <tr>\n",
       "      <th>0</th>\n",
       "      <td>190</td>\n",
       "      <td>RM</td>\n",
       "      <td>69.0</td>\n",
       "      <td>9142</td>\n",
       "      <td>0</td>\n",
       "      <td>Grvl</td>\n",
       "      <td>3</td>\n",
       "      <td>Lvl</td>\n",
       "      <td>3</td>\n",
       "      <td>Inside</td>\n",
       "      <td>...</td>\n",
       "      <td>0</td>\n",
       "      <td>0</td>\n",
       "      <td>0</td>\n",
       "      <td>None</td>\n",
       "      <td>0</td>\n",
       "      <td>4</td>\n",
       "      <td>2006</td>\n",
       "      <td>WD</td>\n",
       "      <td>1</td>\n",
       "      <td>NaN</td>\n",
       "    </tr>\n",
       "    <tr>\n",
       "      <th>1</th>\n",
       "      <td>90</td>\n",
       "      <td>RL</td>\n",
       "      <td>0.0</td>\n",
       "      <td>9662</td>\n",
       "      <td>0</td>\n",
       "      <td>None</td>\n",
       "      <td>2</td>\n",
       "      <td>Lvl</td>\n",
       "      <td>3</td>\n",
       "      <td>Inside</td>\n",
       "      <td>...</td>\n",
       "      <td>0</td>\n",
       "      <td>0</td>\n",
       "      <td>0</td>\n",
       "      <td>None</td>\n",
       "      <td>0</td>\n",
       "      <td>8</td>\n",
       "      <td>2006</td>\n",
       "      <td>WD</td>\n",
       "      <td>1</td>\n",
       "      <td>NaN</td>\n",
       "    </tr>\n",
       "    <tr>\n",
       "      <th>2</th>\n",
       "      <td>60</td>\n",
       "      <td>RL</td>\n",
       "      <td>58.0</td>\n",
       "      <td>17104</td>\n",
       "      <td>0</td>\n",
       "      <td>None</td>\n",
       "      <td>2</td>\n",
       "      <td>Lvl</td>\n",
       "      <td>3</td>\n",
       "      <td>Inside</td>\n",
       "      <td>...</td>\n",
       "      <td>0</td>\n",
       "      <td>0</td>\n",
       "      <td>0</td>\n",
       "      <td>None</td>\n",
       "      <td>0</td>\n",
       "      <td>9</td>\n",
       "      <td>2006</td>\n",
       "      <td>New</td>\n",
       "      <td>1</td>\n",
       "      <td>NaN</td>\n",
       "    </tr>\n",
       "    <tr>\n",
       "      <th>3</th>\n",
       "      <td>30</td>\n",
       "      <td>RM</td>\n",
       "      <td>60.0</td>\n",
       "      <td>8520</td>\n",
       "      <td>0</td>\n",
       "      <td>None</td>\n",
       "      <td>3</td>\n",
       "      <td>Lvl</td>\n",
       "      <td>3</td>\n",
       "      <td>Inside</td>\n",
       "      <td>...</td>\n",
       "      <td>0</td>\n",
       "      <td>0</td>\n",
       "      <td>0</td>\n",
       "      <td>None</td>\n",
       "      <td>0</td>\n",
       "      <td>7</td>\n",
       "      <td>2007</td>\n",
       "      <td>WD</td>\n",
       "      <td>1</td>\n",
       "      <td>NaN</td>\n",
       "    </tr>\n",
       "    <tr>\n",
       "      <th>4</th>\n",
       "      <td>20</td>\n",
       "      <td>RL</td>\n",
       "      <td>0.0</td>\n",
       "      <td>9500</td>\n",
       "      <td>0</td>\n",
       "      <td>None</td>\n",
       "      <td>2</td>\n",
       "      <td>Lvl</td>\n",
       "      <td>3</td>\n",
       "      <td>Inside</td>\n",
       "      <td>...</td>\n",
       "      <td>0</td>\n",
       "      <td>0</td>\n",
       "      <td>0</td>\n",
       "      <td>None</td>\n",
       "      <td>0</td>\n",
       "      <td>7</td>\n",
       "      <td>2009</td>\n",
       "      <td>WD</td>\n",
       "      <td>1</td>\n",
       "      <td>NaN</td>\n",
       "    </tr>\n",
       "  </tbody>\n",
       "</table>\n",
       "<p>5 rows × 80 columns</p>\n",
       "</div>"
      ],
      "text/plain": [
       "   MS SubClass MS Zoning  Lot Frontage  Lot Area  Street Alley  Lot Shape  \\\n",
       "0          190        RM          69.0      9142       0  Grvl          3   \n",
       "1           90        RL           0.0      9662       0  None          2   \n",
       "2           60        RL          58.0     17104       0  None          2   \n",
       "3           30        RM          60.0      8520       0  None          3   \n",
       "4           20        RL           0.0      9500       0  None          2   \n",
       "\n",
       "  Land Contour  Utilities Lot Config  ...  Pool Area Pool QC Fence  \\\n",
       "0          Lvl          3     Inside  ...          0       0     0   \n",
       "1          Lvl          3     Inside  ...          0       0     0   \n",
       "2          Lvl          3     Inside  ...          0       0     0   \n",
       "3          Lvl          3     Inside  ...          0       0     0   \n",
       "4          Lvl          3     Inside  ...          0       0     0   \n",
       "\n",
       "  Misc Feature Misc Val Mo Sold  Yr Sold  Sale Type  Is_test  SalePrice  \n",
       "0         None        0       4     2006        WD         1        NaN  \n",
       "1         None        0       8     2006        WD         1        NaN  \n",
       "2         None        0       9     2006        New        1        NaN  \n",
       "3         None        0       7     2007        WD         1        NaN  \n",
       "4         None        0       7     2009        WD         1        NaN  \n",
       "\n",
       "[5 rows x 80 columns]"
      ]
     },
     "execution_count": 13,
     "metadata": {},
     "output_type": "execute_result"
    }
   ],
   "source": [
    "df.head()"
   ]
  },
  {
   "cell_type": "code",
   "execution_count": 59,
   "metadata": {},
   "outputs": [],
   "source": [
    "# Create target and feature column only correlation list\n",
    "num_cols = [cols for cols in df.columns if df[cols].dtypes != 'object']\n",
    "feat_target_corr = df[num_cols].drop(\"SalePrice\", axis=1).apply(lambda x: x.corr(df['SalePrice']))"
   ]
  },
  {
   "cell_type": "code",
   "execution_count": 60,
   "metadata": {},
   "outputs": [
    {
     "data": {
      "text/plain": [
       "Overall Qual     0.803813\n",
       "Gr Liv Area      0.719121\n",
       "Exter Qual       0.715612\n",
       "Kitchen Qual     0.694426\n",
       "Total Bsmt SF    0.665982\n",
       "Garage Area      0.655624\n",
       "1st Flr SF       0.648638\n",
       "Garage Cars      0.648420\n",
       "Bsmt Qual        0.613126\n",
       "Year Built       0.573236\n",
       "dtype: float64"
      ]
     },
     "execution_count": 60,
     "metadata": {},
     "output_type": "execute_result"
    }
   ],
   "source": [
    "feat_target_corr.sort_values(ascending = False).head(10)"
   ]
  },
  {
   "cell_type": "code",
   "execution_count": null,
   "metadata": {},
   "outputs": [],
   "source": [
    "# Features with high correlation to consider dropping\n",
    "features_to_drop = ['Overall Qual','Gr Liv Area','Exter Qual']"
   ]
  },
  {
   "cell_type": "code",
   "execution_count": 16,
   "metadata": {},
   "outputs": [
    {
     "data": {
      "image/png": "[encoded data removed]",
      "text/plain": [
       "<Figure size 864x864 with 2 Axes>"
      ]
     },
     "metadata": {
      "needs_background": "light"
     },
     "output_type": "display_data"
    }
   ],
   "source": [
    "# Looking at heatmap for high correlated items\n",
    "fig, ax = plt.subplots(figsize=(12,12))\n",
    "# Compute the correlation matrix\n",
    "\n",
    "# Generate a mask for the upper triangle\n",
    "mask = np.zeros_like(df.corr())\n",
    "mask[np.triu_indices_from(mask)] = True\n",
    "\n",
    "sns.heatmap(df.corr(),mask = mask, cmap=\"RdBu_r\")\n",
    "ax.set_title('Correlation of all numeric columsn in final dataframe')\n",
    "\n",
    "plt.show()"
   ]
  },
  {
   "cell_type": "code",
   "execution_count": 31,
   "metadata": {},
   "outputs": [
    {
     "name": "stdout",
     "output_type": "stream",
     "text": [
      "MS SubClass     MS SubClass       1.000000\n",
      "Garage Qual     Garage Cond       0.946088\n",
      "Garage Cond     Garage Qual       0.946088\n",
      "Garage Cars     Garage Area       0.892510\n",
      "Garage Area     Garage Cars       0.892510\n",
      "Pool QC         Pool Area         0.873444\n",
      "Pool Area       Pool QC           0.873444\n",
      "Fireplace Qu    Fireplaces        0.860961\n",
      "Fireplaces      Fireplace Qu      0.860961\n",
      "TotRms AbvGrd   Gr Liv Area       0.806678\n",
      "Gr Liv Area     TotRms AbvGrd     0.806678\n",
      "Overall Qual    SalePrice         0.803813\n",
      "SalePrice       Overall Qual      0.803813\n",
      "Year Built      Garage Yr Blt     0.799342\n",
      "Garage Yr Blt   Year Built        0.799342\n",
      "BsmtFin SF 2    BsmtFin Type 2    0.798789\n",
      "BsmtFin Type 2  BsmtFin SF 2      0.798789\n",
      "Total Bsmt SF   1st Flr SF        0.787990\n",
      "1st Flr SF      Total Bsmt SF     0.787990\n",
      "Exter Qual      Overall Qual      0.733494\n",
      "Overall Qual    Exter Qual        0.733494\n",
      "BsmtFin SF 1    BsmtFin Type 1    0.720541\n",
      "BsmtFin Type 1  BsmtFin SF 1      0.720541\n",
      "Gr Liv Area     SalePrice         0.719121\n",
      "SalePrice       Gr Liv Area       0.719121\n",
      "Exter Qual      SalePrice         0.715612\n",
      "SalePrice       Exter Qual        0.715612\n",
      "Kitchen Qual    Exter Qual        0.714784\n",
      "Exter Qual      Kitchen Qual      0.714784\n",
      "SalePrice       Kitchen Qual      0.694426\n",
      "Kitchen Qual    SalePrice         0.694426\n",
      "TotRms AbvGrd   Bedroom AbvGr     0.679242\n",
      "Bedroom AbvGr   TotRms AbvGrd     0.679242\n",
      "Kitchen Qual    Overall Qual      0.674245\n",
      "Overall Qual    Kitchen Qual      0.674245\n",
      "Gr Liv Area     2nd Flr SF        0.668338\n",
      "2nd Flr SF      Gr Liv Area       0.668338\n",
      "Total Bsmt SF   SalePrice         0.665982\n",
      "SalePrice       Total Bsmt SF     0.665982\n",
      "Garage Area     SalePrice         0.655624\n",
      "SalePrice       Garage Area       0.655624\n",
      "                1st Flr SF        0.648638\n",
      "1st Flr SF      SalePrice         0.648638\n",
      "Bsmt Full Bath  BsmtFin SF 1      0.648464\n",
      "BsmtFin SF 1    Bsmt Full Bath    0.648464\n",
      "Garage Cars     SalePrice         0.648420\n",
      "SalePrice       Garage Cars       0.648420\n",
      "Overall Qual    Bsmt Qual         0.640867\n",
      "Bsmt Qual       Overall Qual      0.640867\n",
      "Gr Liv Area     Full Bath         0.639058\n",
      "dtype: float64\n"
     ]
    }
   ],
   "source": [
    "# Look at high correlations\n",
    "corr = df.corr().abs()\n",
    "unstack_corr = corr.unstack()\n",
    "corr_sort = unstack_corr.sort_values(ascending = False)\n",
    "\n",
    "print(corr_sort[60:110])"
   ]
  },
  {
   "cell_type": "code",
   "execution_count": 21,
   "metadata": {},
   "outputs": [
    {
     "data": {
      "text/plain": [
       "0       1\n",
       "1       3\n",
       "2       3\n",
       "3       3\n",
       "4       3\n",
       "5       3\n",
       "6       3\n",
       "7       3\n",
       "8       3\n",
       "9       3\n",
       "10      3\n",
       "11      3\n",
       "12      3\n",
       "13      3\n",
       "14      3\n",
       "15      3\n",
       "16      3\n",
       "17      3\n",
       "18      3\n",
       "19      3\n",
       "20      3\n",
       "21      3\n",
       "22      3\n",
       "23      3\n",
       "24      3\n",
       "25      3\n",
       "26      3\n",
       "27      1\n",
       "28      3\n",
       "29      0\n",
       "       ..\n",
       "2888    3\n",
       "2889    3\n",
       "2890    3\n",
       "2891    3\n",
       "2892    3\n",
       "2893    3\n",
       "2894    0\n",
       "2895    3\n",
       "2896    3\n",
       "2897    3\n",
       "2898    3\n",
       "2899    3\n",
       "2900    3\n",
       "2901    3\n",
       "2902    2\n",
       "2903    3\n",
       "2904    3\n",
       "2905    3\n",
       "2906    0\n",
       "2907    3\n",
       "2908    3\n",
       "2909    0\n",
       "2910    3\n",
       "2911    3\n",
       "2912    3\n",
       "2913    3\n",
       "2914    3\n",
       "2915    2\n",
       "2916    3\n",
       "2917    3\n",
       "Name: Garage Cond, Length: 2918, dtype: int64"
      ]
     },
     "execution_count": 21,
     "metadata": {},
     "output_type": "execute_result"
    }
   ],
   "source": [
    "sim_features ['Garage Qual', 'Garage Cars','Pool Area','']"
   ]
  },
  {
   "cell_type": "code",
   "execution_count": null,
   "metadata": {},
   "outputs": [],
   "source": []
  },
  {
   "cell_type": "code",
   "execution_count": null,
   "metadata": {},
   "outputs": [],
   "source": []
  },
  {
   "cell_type": "code",
   "execution_count": null,
   "metadata": {},
   "outputs": [],
   "source": []
  },
  {
   "cell_type": "code",
   "execution_count": null,
   "metadata": {},
   "outputs": [],
   "source": []
  },
  {
   "cell_type": "code",
   "execution_count": null,
   "metadata": {},
   "outputs": [],
   "source": []
  },
  {
   "cell_type": "code",
   "execution_count": null,
   "metadata": {},
   "outputs": [],
   "source": []
  },
  {
   "cell_type": "code",
   "execution_count": null,
   "metadata": {},
   "outputs": [],
   "source": []
  },
  {
   "cell_type": "code",
   "execution_count": 14,
   "metadata": {},
   "outputs": [],
   "source": [
    "# Create dummies for columns with categories\n",
    "dum_cols = [col for col in df.columns if df[col].dtype == 'object']"
   ]
  },
  {
   "cell_type": "code",
   "execution_count": 15,
   "metadata": {},
   "outputs": [
    {
     "data": {
      "text/plain": [
       "['MS Zoning',\n",
       " 'Alley',\n",
       " 'Land Contour',\n",
       " 'Lot Config',\n",
       " 'Neighborhood',\n",
       " 'Condition 1',\n",
       " 'Condition 2',\n",
       " 'Bldg Type',\n",
       " 'House Style',\n",
       " 'Roof Style',\n",
       " 'Roof Matl',\n",
       " 'Exterior 1st',\n",
       " 'Exterior 2nd',\n",
       " 'Mas Vnr Type',\n",
       " 'Foundation',\n",
       " 'Heating',\n",
       " 'Garage Type',\n",
       " 'Misc Feature',\n",
       " 'Sale Type']"
      ]
     },
     "execution_count": 15,
     "metadata": {},
     "output_type": "execute_result"
    }
   ],
   "source": [
    "dum_cols"
   ]
  },
  {
   "cell_type": "code",
   "execution_count": null,
   "metadata": {},
   "outputs": [],
   "source": [
    "df_with_dummies = pd.get_dummies(df, columns=dum_cols, drop_first=True)"
   ]
  },
  {
   "cell_type": "markdown",
   "metadata": {},
   "source": [
    "## Data Cleaning\n",
    "- Decide how to impute null values.\n",
    "- Decide how to handle outliers.\n",
    "- Do you want to combine any features?\n",
    "- Do you want to have interaction terms?\n",
    "- Do you want to manually drop collinear features?\n"
   ]
  },
  {
   "cell_type": "code",
   "execution_count": null,
   "metadata": {},
   "outputs": [],
   "source": []
  },
  {
   "cell_type": "markdown",
   "metadata": {},
   "source": [
    "## Exploratory Visualizations\n",
    "- Look at distributions.\n",
    "- Look at correlations.\n",
    "- Look at relationships to target (scatter plots for continuous, box plots for categorical).\n"
   ]
  },
  {
   "cell_type": "code",
   "execution_count": null,
   "metadata": {},
   "outputs": [],
   "source": []
  },
  {
   "cell_type": "markdown",
   "metadata": {},
   "source": [
    "## Pre-processing\n",
    "- One-hot encode categorical variables.\n",
    "- Train/test split your data.\n",
    "- Scale your data.\n",
    "- Consider using automated feature selection."
   ]
  },
  {
   "cell_type": "code",
   "execution_count": null,
   "metadata": {},
   "outputs": [],
   "source": []
  },
  {
   "cell_type": "markdown",
   "metadata": {},
   "source": [
    "## Modeling\n",
    "- **Establish your baseline score.**\n",
    "- Fit linear regression. Look at your coefficients. Are any of them wildly overblown?\n",
    "- Fit lasso/ridge/elastic net with default parameters.\n",
    "- Go back and remove features that might be causing issues in your models.\n",
    "- Tune hyperparameters.\n",
    "- **Identify a production model.** (This does not have to be your best performing Kaggle model, but rather the model that best answers your problem statement.)\n",
    "- Refine and interpret your production model.\n"
   ]
  },
  {
   "cell_type": "code",
   "execution_count": null,
   "metadata": {},
   "outputs": [],
   "source": []
  },
  {
   "cell_type": "markdown",
   "metadata": {},
   "source": [
    "## Inferential Visualizations\n",
    "- Look at feature loadings.\n",
    "- Look at how accurate your predictions are.\n",
    "- Is there a pattern to your errors? Consider reworking your model to address this."
   ]
  },
  {
   "cell_type": "code",
   "execution_count": null,
   "metadata": {},
   "outputs": [],
   "source": []
  },
  {
   "cell_type": "markdown",
   "metadata": {},
   "source": [
    "## Business Recommendations\n",
    "- Which features appear to add the most value to a home?\n",
    "- Which features hurt the value of a home the most?\n",
    "- What are things that homeowners could improve in their homes to increase the value?\n",
    "- What neighborhoods seem like they might be a good investment?\n",
    "- Do you feel that this model will generalize to other cities? How could you revise your model to make it more universal OR what date would you need from another city to make a comparable model?"
   ]
  },
  {
   "cell_type": "code",
   "execution_count": null,
   "metadata": {},
   "outputs": [],
   "source": []
  },
  {
   "cell_type": "code",
   "execution_count": null,
   "metadata": {},
   "outputs": [],
   "source": []
  },
  {
   "cell_type": "code",
   "execution_count": null,
   "metadata": {},
   "outputs": [],
   "source": []
  },
  {
   "cell_type": "code",
   "execution_count": null,
   "metadata": {},
   "outputs": [],
   "source": []
  },
  {
   "cell_type": "code",
   "execution_count": null,
   "metadata": {},
   "outputs": [],
   "source": []
  },
  {
   "cell_type": "code",
   "execution_count": null,
   "metadata": {},
   "outputs": [],
   "source": []
  },
  {
   "cell_type": "code",
   "execution_count": null,
   "metadata": {},
   "outputs": [],
   "source": []
  },
  {
   "cell_type": "code",
   "execution_count": null,
   "metadata": {},
   "outputs": [],
   "source": []
  },
  {
   "cell_type": "code",
   "execution_count": null,
   "metadata": {},
   "outputs": [],
   "source": []
  },
  {
   "cell_type": "code",
   "execution_count": null,
   "metadata": {},
   "outputs": [],
   "source": []
  }
 ],
 "metadata": {
  "kernelspec": {
   "display_name": "Python 3",
   "language": "python",
   "name": "python3"
  },
  "language_info": {
   "codemirror_mode": {
    "name": "ipython",
    "version": 3
   },
   "file_extension": ".py",
   "mimetype": "text/x-python",
   "name": "python",
   "nbconvert_exporter": "python",
   "pygments_lexer": "ipython3",
   "version": "3.6.8"
  }
 },
 "nbformat": 4,
 "nbformat_minor": 2
}
