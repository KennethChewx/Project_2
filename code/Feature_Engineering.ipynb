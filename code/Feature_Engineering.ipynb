{
 "cells": [
  {
   "cell_type": "markdown",
   "metadata": {},
   "source": [
    "## Pre-processing, feature engineering and modeling"
   ]
  },
  {
   "cell_type": "code",
   "execution_count": 1,
   "metadata": {},
   "outputs": [],
   "source": [
    "import pandas as pd\n",
    "import numpy as np\n",
    "import seaborn as sns\n",
    "import matplotlib.pyplot as plt\n",
    "from sklearn.linear_model import LinearRegression, LassoCV, RidgeCV\n",
    "from sklearn.preprocessing import PolynomialFeatures, StandardScaler\n",
    "from sklearn.model_selection import train_test_split, cross_val_score, KFold\n",
    "from sklearn.metrics import mean_squared_error\n",
    "\n",
    "%matplotlib inline"
   ]
  },
  {
   "cell_type": "code",
   "execution_count": 2,
   "metadata": {},
   "outputs": [],
   "source": [
    "#Get cleaned datasets: Not touching main test set first\n",
    "test = '../datasets/test_cleaned.csv'\n",
    "train = '../datasets/train_cleaned.csv'"
   ]
  },
  {
   "cell_type": "code",
   "execution_count": 3,
   "metadata": {},
   "outputs": [],
   "source": [
    "# Read csv the clean files\n",
    "test = pd.read_csv(test)\n",
    "train = pd.read_csv(train)\n",
    "train.drop('Unnamed: 0',axis = 1,inplace=True)\n",
    "test.drop('Unnamed: 0',axis = 1,inplace=True)\n",
    "# Combine train and test scores first\n",
    "df = pd.concat([test,train],ignore_index=True,sort=False)"
   ]
  },
  {
   "cell_type": "code",
   "execution_count": 4,
   "metadata": {},
   "outputs": [
    {
     "data": {
      "text/html": [
       "<div>\n",
       "<style scoped>\n",
       "    .dataframe tbody tr th:only-of-type {\n",
       "        vertical-align: middle;\n",
       "    }\n",
       "\n",
       "    .dataframe tbody tr th {\n",
       "        vertical-align: top;\n",
       "    }\n",
       "\n",
       "    .dataframe thead th {\n",
       "        text-align: right;\n",
       "    }\n",
       "</style>\n",
       "<table border=\"1\" class=\"dataframe\">\n",
       "  <thead>\n",
       "    <tr style=\"text-align: right;\">\n",
       "      <th></th>\n",
       "      <th>Id</th>\n",
       "      <th>PID</th>\n",
       "      <th>MS SubClass</th>\n",
       "      <th>MS Zoning</th>\n",
       "      <th>Lot Frontage</th>\n",
       "      <th>Lot Area</th>\n",
       "      <th>Street</th>\n",
       "      <th>Alley</th>\n",
       "      <th>Lot Shape</th>\n",
       "      <th>Land Contour</th>\n",
       "      <th>...</th>\n",
       "      <th>Screen Porch</th>\n",
       "      <th>Pool Area</th>\n",
       "      <th>Pool QC</th>\n",
       "      <th>Fence</th>\n",
       "      <th>Misc Feature</th>\n",
       "      <th>Misc Val</th>\n",
       "      <th>Mo Sold</th>\n",
       "      <th>Yr Sold</th>\n",
       "      <th>Sale Type</th>\n",
       "      <th>SalePrice</th>\n",
       "    </tr>\n",
       "  </thead>\n",
       "  <tbody>\n",
       "    <tr>\n",
       "      <th>0</th>\n",
       "      <td>2658</td>\n",
       "      <td>902301120</td>\n",
       "      <td>190</td>\n",
       "      <td>RM</td>\n",
       "      <td>69.0</td>\n",
       "      <td>9142</td>\n",
       "      <td>0</td>\n",
       "      <td>Grvl</td>\n",
       "      <td>3</td>\n",
       "      <td>Lvl</td>\n",
       "      <td>...</td>\n",
       "      <td>0</td>\n",
       "      <td>0</td>\n",
       "      <td>0</td>\n",
       "      <td>0</td>\n",
       "      <td>None</td>\n",
       "      <td>0</td>\n",
       "      <td>4</td>\n",
       "      <td>2006</td>\n",
       "      <td>WD</td>\n",
       "      <td>NaN</td>\n",
       "    </tr>\n",
       "    <tr>\n",
       "      <th>1</th>\n",
       "      <td>2718</td>\n",
       "      <td>905108090</td>\n",
       "      <td>90</td>\n",
       "      <td>RL</td>\n",
       "      <td>0.0</td>\n",
       "      <td>9662</td>\n",
       "      <td>0</td>\n",
       "      <td>None</td>\n",
       "      <td>2</td>\n",
       "      <td>Lvl</td>\n",
       "      <td>...</td>\n",
       "      <td>0</td>\n",
       "      <td>0</td>\n",
       "      <td>0</td>\n",
       "      <td>0</td>\n",
       "      <td>None</td>\n",
       "      <td>0</td>\n",
       "      <td>8</td>\n",
       "      <td>2006</td>\n",
       "      <td>WD</td>\n",
       "      <td>NaN</td>\n",
       "    </tr>\n",
       "    <tr>\n",
       "      <th>2</th>\n",
       "      <td>2414</td>\n",
       "      <td>528218130</td>\n",
       "      <td>60</td>\n",
       "      <td>RL</td>\n",
       "      <td>58.0</td>\n",
       "      <td>17104</td>\n",
       "      <td>0</td>\n",
       "      <td>None</td>\n",
       "      <td>2</td>\n",
       "      <td>Lvl</td>\n",
       "      <td>...</td>\n",
       "      <td>0</td>\n",
       "      <td>0</td>\n",
       "      <td>0</td>\n",
       "      <td>0</td>\n",
       "      <td>None</td>\n",
       "      <td>0</td>\n",
       "      <td>9</td>\n",
       "      <td>2006</td>\n",
       "      <td>New</td>\n",
       "      <td>NaN</td>\n",
       "    </tr>\n",
       "    <tr>\n",
       "      <th>3</th>\n",
       "      <td>1989</td>\n",
       "      <td>902207150</td>\n",
       "      <td>30</td>\n",
       "      <td>RM</td>\n",
       "      <td>60.0</td>\n",
       "      <td>8520</td>\n",
       "      <td>0</td>\n",
       "      <td>None</td>\n",
       "      <td>3</td>\n",
       "      <td>Lvl</td>\n",
       "      <td>...</td>\n",
       "      <td>0</td>\n",
       "      <td>0</td>\n",
       "      <td>0</td>\n",
       "      <td>0</td>\n",
       "      <td>None</td>\n",
       "      <td>0</td>\n",
       "      <td>7</td>\n",
       "      <td>2007</td>\n",
       "      <td>WD</td>\n",
       "      <td>NaN</td>\n",
       "    </tr>\n",
       "    <tr>\n",
       "      <th>4</th>\n",
       "      <td>625</td>\n",
       "      <td>535105100</td>\n",
       "      <td>20</td>\n",
       "      <td>RL</td>\n",
       "      <td>0.0</td>\n",
       "      <td>9500</td>\n",
       "      <td>0</td>\n",
       "      <td>None</td>\n",
       "      <td>2</td>\n",
       "      <td>Lvl</td>\n",
       "      <td>...</td>\n",
       "      <td>185</td>\n",
       "      <td>0</td>\n",
       "      <td>0</td>\n",
       "      <td>0</td>\n",
       "      <td>None</td>\n",
       "      <td>0</td>\n",
       "      <td>7</td>\n",
       "      <td>2009</td>\n",
       "      <td>WD</td>\n",
       "      <td>NaN</td>\n",
       "    </tr>\n",
       "  </tbody>\n",
       "</table>\n",
       "<p>5 rows × 81 columns</p>\n",
       "</div>"
      ],
      "text/plain": [
       "     Id        PID  MS SubClass MS Zoning  Lot Frontage  Lot Area  Street  \\\n",
       "0  2658  902301120          190        RM          69.0      9142       0   \n",
       "1  2718  905108090           90        RL           0.0      9662       0   \n",
       "2  2414  528218130           60        RL          58.0     17104       0   \n",
       "3  1989  902207150           30        RM          60.0      8520       0   \n",
       "4   625  535105100           20        RL           0.0      9500       0   \n",
       "\n",
       "  Alley  Lot Shape Land Contour  ...  Screen Porch Pool Area  Pool QC Fence  \\\n",
       "0  Grvl          3          Lvl  ...             0         0        0     0   \n",
       "1  None          2          Lvl  ...             0         0        0     0   \n",
       "2  None          2          Lvl  ...             0         0        0     0   \n",
       "3  None          3          Lvl  ...             0         0        0     0   \n",
       "4  None          2          Lvl  ...           185         0        0     0   \n",
       "\n",
       "  Misc Feature Misc Val Mo Sold Yr Sold  Sale Type  SalePrice  \n",
       "0         None        0       4    2006        WD         NaN  \n",
       "1         None        0       8    2006        WD         NaN  \n",
       "2         None        0       9    2006        New        NaN  \n",
       "3         None        0       7    2007        WD         NaN  \n",
       "4         None        0       7    2009        WD         NaN  \n",
       "\n",
       "[5 rows x 81 columns]"
      ]
     },
     "execution_count": 4,
     "metadata": {},
     "output_type": "execute_result"
    }
   ],
   "source": [
    "df.head()"
   ]
  },
  {
   "cell_type": "code",
   "execution_count": 5,
   "metadata": {},
   "outputs": [],
   "source": [
    "# Combining features in continuous and discrete columns\n",
    "# Looking at the overall bathroom facilities available and interaction between bedroom and bathrooms\n",
    "df['total_bathrooms'] = df['Bsmt Full Bath'] + df['Bsmt Half Bath']*0.5 + df['Full Bath'] + df['Half Bath']*0.5\n",
    "# Looking at the total porch SF available\n",
    "df['porch_sf'] = df['Wood Deck SF'] + df['Open Porch SF'] + df['Enclosed Porch'] + df['3Ssn Porch'] + df['Screen Porch']\n",
    "# Looking at the age of house when sold since last remodification\n",
    "df['age'] = df['Yr Sold'] - df['Year Remod/Add']\n",
    "# Fireplace score per fireplace\n",
    "df['fire_score'] = df['Fireplaces'] * df['Fireplace Qu']\n",
    "# Ease of parking based on slope and on pavement\n",
    "df['parking'] = (df['Paved Drive'] + 1) * (df['Land Slope'] + 1)"
   ]
  },
  {
   "cell_type": "code",
   "execution_count": 6,
   "metadata": {},
   "outputs": [],
   "source": [
    "# MS Subclass should be nominal\n",
    "df['MS SubClass'] = df['MS SubClass'].astype(str)"
   ]
  },
  {
   "cell_type": "code",
   "execution_count": 7,
   "metadata": {},
   "outputs": [],
   "source": [
    "# Based on domain knowledge, the following features might be considered to be strong predictors of sale price\n",
    "features = ['Gr Liv Area','porch_sf','total_bathrooms','Bedroom AbvGr','age','Utilities','Functional','Lot Area',\n",
    "            'Garage Qual','Garage Finish','Bsmt Qual','Bsmt Exposure','BsmtFin Type 1','BsmtFin Type 2','Overall Qual','fire_score','parking',\n",
    "            'TotRms AbvGrd','Neighborhood','MS SubClass','MS Zoning','Foundation','Lot Shape', 'Exter Qual','Heating QC','Electrical',\n",
    "            'Pool QC','Fence','Mas Vnr Area']\n",
    "features_target = features + ['SalePrice']"
   ]
  },
  {
   "cell_type": "code",
   "execution_count": 8,
   "metadata": {},
   "outputs": [
    {
     "data": {
      "image/png": "[encoded data removed]",
      "text/plain": [
       "<Figure size 720x576 with 2 Axes>"
      ]
     },
     "metadata": {
      "needs_background": "light"
     },
     "output_type": "display_data"
    }
   ],
   "source": [
    "# Explore correlation to target:\n",
    "fig, ax = plt.subplots(figsize=(10,8))\n",
    "sns.heatmap(df[features_target].corr()[['SalePrice']].sort_values('SalePrice'),\n",
    "            vmax=1, vmin=-1, cmap='YlGnBu', annot=True, ax=ax);\n",
    "ax.invert_yaxis()"
   ]
  },
  {
   "cell_type": "code",
   "execution_count": 9,
   "metadata": {},
   "outputs": [],
   "source": [
    "features = [col for col in features if col not in ('Overall Qual','Gr Liv Area', 'Exter Qual')]"
   ]
  },
  {
   "cell_type": "markdown",
   "metadata": {},
   "source": [
    "## High correlation with target:\n",
    "\n",
    "We see that Overall quality, Gr Liv Area and Exter Qual have a strong correlation with the target value >0.7, and I would want to drop these feature. The rest of the correlation seems to be reasonable."
   ]
  },
  {
   "cell_type": "code",
   "execution_count": 10,
   "metadata": {},
   "outputs": [
    {
     "name": "stdout",
     "output_type": "stream",
     "text": [
      "Pool QC          Pool QC            1.000000\n",
      "porch_sf         porch_sf           1.000000\n",
      "TotRms AbvGrd    Bedroom AbvGr      0.679696\n",
      "Bedroom AbvGr    TotRms AbvGrd      0.679696\n",
      "age              Heating QC         0.546850\n",
      "Heating QC       age                0.546850\n",
      "Bsmt Qual        age                0.525816\n",
      "age              Bsmt Qual          0.525816\n",
      "Bsmt Qual        total_bathrooms    0.493552\n",
      "total_bathrooms  Bsmt Qual          0.493552\n",
      "dtype: float64\n"
     ]
    }
   ],
   "source": [
    "# Explore multi-collinearity:\n",
    "corr = df[features].corr().abs()\n",
    "unstack_corr = corr.unstack()\n",
    "corr_sort = unstack_corr.sort_values(ascending = False)\n",
    "\n",
    "print(corr_sort[20:30])"
   ]
  },
  {
   "cell_type": "markdown",
   "metadata": {},
   "source": [
    "## High correlation with each other:\n",
    "\n",
    "The general correlation between each feature seems acceptable as they are less than 0.7."
   ]
  },
  {
   "cell_type": "code",
   "execution_count": 11,
   "metadata": {},
   "outputs": [],
   "source": [
    "# Define the feature\n",
    "X = df[features]"
   ]
  },
  {
   "cell_type": "code",
   "execution_count": 12,
   "metadata": {},
   "outputs": [],
   "source": [
    "# Create dummies for nominal features\n",
    "X = pd.get_dummies(X, drop_first = True)"
   ]
  },
  {
   "cell_type": "code",
   "execution_count": 13,
   "metadata": {},
   "outputs": [],
   "source": [
    "# Important to split out the train and test set here, and only use the train set for modeling.\n",
    "# Add back the sale price column to the polynomial feature dataframe\n",
    "X = pd.concat([X,df['SalePrice']],axis = 1)\n",
    "# Add back the ID column for test submission at the end\n",
    "X = pd.concat([X,df['Id']],axis = 1)"
   ]
  },
  {
   "cell_type": "code",
   "execution_count": 14,
   "metadata": {},
   "outputs": [],
   "source": [
    "# split out the test and the train set manually \n",
    "test = X[X['SalePrice'].isnull()]\n",
    "X = X[X['SalePrice'].notnull()]"
   ]
  },
  {
   "cell_type": "code",
   "execution_count": 15,
   "metadata": {},
   "outputs": [],
   "source": [
    "# Separate out the target train and test sets\n",
    "y = X['SalePrice']\n",
    "# remove the target column in train set\n",
    "X.drop(columns='SalePrice',inplace = True)"
   ]
  },
  {
   "cell_type": "markdown",
   "metadata": {},
   "source": [
    "## Train test split, standardizing and modeling with Linear regression, Lasso and Ridge"
   ]
  },
  {
   "cell_type": "code",
   "execution_count": 16,
   "metadata": {},
   "outputs": [],
   "source": [
    "# Train test split\n",
    "X_train, X_test, y_train, y_test = train_test_split(X, y, test_size =0.2, random_state=42)"
   ]
  },
  {
   "cell_type": "markdown",
   "metadata": {},
   "source": [
    "## Standardizing"
   ]
  },
  {
   "cell_type": "code",
   "execution_count": 17,
   "metadata": {},
   "outputs": [],
   "source": [
    "# Standardizing\n",
    "stdsc = StandardScaler()\n",
    "stdsc.fit(X_train)\n",
    "X_train = stdsc.transform(X_train)\n",
    "X_test = stdsc.transform(X_test)"
   ]
  },
  {
   "cell_type": "markdown",
   "metadata": {},
   "source": [
    "## Linear Regression"
   ]
  },
  {
   "cell_type": "code",
   "execution_count": 18,
   "metadata": {},
   "outputs": [
    {
     "data": {
      "text/plain": [
       "LinearRegression(copy_X=True, fit_intercept=True, n_jobs=None, normalize=False)"
      ]
     },
     "execution_count": 18,
     "metadata": {},
     "output_type": "execute_result"
    }
   ],
   "source": [
    "# Assume linear regression as target is continuous variable\n",
    "linreg = LinearRegression()\n",
    "linreg.fit(X_train,y_train)"
   ]
  },
  {
   "cell_type": "code",
   "execution_count": 19,
   "metadata": {},
   "outputs": [
    {
     "name": "stdout",
     "output_type": "stream",
     "text": [
      "LR cross_val_score -6.7803803169653025e+22\n",
      "LR train r2 = 0.8522624404547277\n",
      "LR test r2 = -2.585174950869936e+24\n",
      "LR MSE = 1.5420543274352975e+34\n"
     ]
    }
   ],
   "source": [
    "# Linear regression metrics\n",
    "print(\"LR cross_val_score\", cross_val_score(linreg, X_train, y_train, cv=5).mean())\n",
    "print('LR train r2 =', linreg.score(X_train, y_train))\n",
    "print('LR test r2 =', linreg.score(X_test, y_test))\n",
    "mse = mean_squared_error(y_test, linreg.predict(X_test))\n",
    "print('LR MSE =', mse)"
   ]
  },
  {
   "cell_type": "markdown",
   "metadata": {},
   "source": [
    "## LassoCV model"
   ]
  },
  {
   "cell_type": "code",
   "execution_count": 20,
   "metadata": {},
   "outputs": [
    {
     "data": {
      "text/plain": [
       "LassoCV(alphas=None, copy_X=True, cv=5, eps=0.001, fit_intercept=True,\n",
       "        max_iter=1000, n_alphas=2000, n_jobs=-1, normalize=False,\n",
       "        positive=False, precompute='auto', random_state=None,\n",
       "        selection='cyclic', tol=0.0001, verbose=False)"
      ]
     },
     "execution_count": 20,
     "metadata": {},
     "output_type": "execute_result"
    }
   ],
   "source": [
    "lasso = LassoCV(n_alphas=2000,cv=5,n_jobs=-1)\n",
    "lasso.fit(X_train,y_train)"
   ]
  },
  {
   "cell_type": "code",
   "execution_count": 21,
   "metadata": {},
   "outputs": [
    {
     "name": "stdout",
     "output_type": "stream",
     "text": [
      "Lasso train r2 = 0.8506755422993247\n",
      "Lasso test r2 = 0.8395398948925361\n",
      "Lasso MSE = 957142956.1408296\n"
     ]
    }
   ],
   "source": [
    "# Lasso metrics\n",
    "print('Lasso train r2 =', lasso.score(X_train, y_train))\n",
    "print('Lasso test r2 =', lasso.score(X_test, y_test))\n",
    "mse = mean_squared_error(y_test, lasso.predict(X_test))\n",
    "print('Lasso MSE =', mse)"
   ]
  },
  {
   "cell_type": "markdown",
   "metadata": {},
   "source": [
    "## RidgeCV model"
   ]
  },
  {
   "cell_type": "code",
   "execution_count": 22,
   "metadata": {},
   "outputs": [
    {
     "data": {
      "text/plain": [
       "RidgeCV(alphas=array([1.0000000e-02, 6.0020010e-02, 1.1004002e-01, ..., 9.9899960e+01,\n",
       "       9.9949980e+01, 1.0000000e+02]),\n",
       "        cv=None, fit_intercept=True, gcv_mode=None, normalize=False,\n",
       "        scoring=None, store_cv_values=False)"
      ]
     },
     "execution_count": 22,
     "metadata": {},
     "output_type": "execute_result"
    }
   ],
   "source": [
    "ridge = RidgeCV(alphas=np.linspace(.01, 100, 2000))\n",
    "ridge.fit(X_train,y_train)"
   ]
  },
  {
   "cell_type": "code",
   "execution_count": 23,
   "metadata": {},
   "outputs": [
    {
     "name": "stdout",
     "output_type": "stream",
     "text": [
      "Ridge train r2 = 0.8517864007040881\n",
      "Ridge test r2 = 0.8385818516025021\n",
      "Ridge MSE = 962857674.9871116\n"
     ]
    }
   ],
   "source": [
    "print('Ridge train r2 =', ridge.score(X_train, y_train))\n",
    "print('Ridge test r2 =', ridge.score(X_test, y_test))\n",
    "mse = mean_squared_error(y_test, ridge.predict(X_test))\n",
    "print('Ridge MSE =', mse)"
   ]
  },
  {
   "cell_type": "markdown",
   "metadata": {},
   "source": [
    "## Model comparison\n",
    "\n",
    "As comparing between the train set and the test set, we see that the difference is highest in linear regression as it is not regularised. Also, the mean square error is highest in this model. However, after regularisation, we see that the difference between r2 in test and train set is much smaller. More distictively, in the lassoCV model, we see that the model has high generalisability with r2 in train and test set of >0.84"
   ]
  },
  {
   "cell_type": "markdown",
   "metadata": {},
   "source": [
    "## Inferential Visualizations and business recommendations"
   ]
  },
  {
   "cell_type": "code",
   "execution_count": 24,
   "metadata": {},
   "outputs": [],
   "source": [
    "coef = pd.Series(lasso.coef_, index = (X.columns))"
   ]
  },
  {
   "cell_type": "code",
   "execution_count": 25,
   "metadata": {},
   "outputs": [
    {
     "data": {
      "text/plain": [
       "Text(0.5, 1.0, 'Feature importance using Lasso Model')"
      ]
     },
     "execution_count": 25,
     "metadata": {},
     "output_type": "execute_result"
    },
    {
     "data": {
      "image/png": "[encoded data removed]",
      "text/plain": [
       "<Figure size 432x288 with 1 Axes>"
      ]
     },
     "metadata": {
      "needs_background": "light"
     },
     "output_type": "display_data"
    }
   ],
   "source": [
    "# Positively impacting features sorted\n",
    "imp_coef = coef.sort_values().tail(15)\n",
    "imp_coef.plot(kind = \"barh\")\n",
    "plt.title(\"Feature importance using Lasso Model\")"
   ]
  },
  {
   "cell_type": "markdown",
   "metadata": {},
   "source": [
    "Looking at the coefficients of the features in the LassoCV model, it is not surprising to see that the total number of rooms matter in the sale price of the Ames house. This is also relavant to the number of total bathrooms both basement and above ground. Total number of rooms and facilities correlate with the overall square feet of the house and thus the larger the square feet, the more expensive the house would be. There is however a strong point for houses built in certain neighbourhoods, for example North Ridge Heights and also Stone Brooks. We do see from our previous plot in EDA that by neighbourhoor, these 2 neighbourhoods are actually the highest in median sale price with the highest price variance.\n",
    "\n",
    "Interestingly, the fire_score also proved to be a strong factor in predicting sale prices. This is somewhat unexpected since one would likely to choose utilities, central air, heating quality etc over fireplace. The preference over fireplace than modern methods of heating might be again assigned to the affluent, who prefer to enjoy the finer things in life."
   ]
  },
  {
   "cell_type": "code",
   "execution_count": 26,
   "metadata": {},
   "outputs": [
    {
     "data": {
      "text/plain": [
       "Text(0.5, 1.0, 'Feature that hurt sale prices using Lasso Model')"
      ]
     },
     "execution_count": 26,
     "metadata": {},
     "output_type": "execute_result"
    },
    {
     "data": {
      "image/png": "[encoded data removed]",
      "text/plain": [
       "<Figure size 432x288 with 1 Axes>"
      ]
     },
     "metadata": {
      "needs_background": "light"
     },
     "output_type": "display_data"
    }
   ],
   "source": [
    "# Negatively impacting features sorted\n",
    "neg_coef = coef.sort_values().head(15)\n",
    "neg_coef.plot(kind = \"barh\")\n",
    "plt.title(\"Feature that hurt sale prices using Lasso Model\")"
   ]
  },
  {
   "cell_type": "markdown",
   "metadata": {},
   "source": [
    "# Recommendations and business inferences\n",
    "\n",
    "As expected, as the age of the house since its last remodelling time, the lower the sale price, as premium would often go to those houses that are newly renovated. As do the housing subclass of 120 and 160, which showcase houses from planned unit development from 1946 onwards. Sale prices also further depreciate when the shape of the lot which the house is built on becomes more irregular. \n",
    "\n",
    "Perhaps, to further improve the model, we could also look at interaction between lot shape and neighbourhood. This might be interesting because houses build around expensive neighbourhoods can sometimes be more irregular than houses built on flat land. We see houses built on hills or ridges have to follow the slope contours to provide strong foundation for the house. This lot shape and neighbourhood interaction might prove to complement or contradict the current direction of lot shape feature on sale price."
   ]
  },
  {
   "cell_type": "markdown",
   "metadata": {},
   "source": [
    "## Submission of scores"
   ]
  },
  {
   "cell_type": "code",
   "execution_count": 27,
   "metadata": {},
   "outputs": [],
   "source": [
    "test.drop(columns='SalePrice',inplace = True)"
   ]
  },
  {
   "cell_type": "code",
   "execution_count": 29,
   "metadata": {},
   "outputs": [],
   "source": [
    "# Get predicted scores from our model above\n",
    "predict = lasso.predict(test)\n",
    "submission = pd.DataFrame({\n",
    "    'Id': test['Id'],\n",
    "    'SalePrice':predict\n",
    "})"
   ]
  },
  {
   "cell_type": "code",
   "execution_count": 37,
   "metadata": {},
   "outputs": [
    {
     "data": {
      "text/html": [
       "<div>\n",
       "<style scoped>\n",
       "    .dataframe tbody tr th:only-of-type {\n",
       "        vertical-align: middle;\n",
       "    }\n",
       "\n",
       "    .dataframe tbody tr th {\n",
       "        vertical-align: top;\n",
       "    }\n",
       "\n",
       "    .dataframe thead th {\n",
       "        text-align: right;\n",
       "    }\n",
       "</style>\n",
       "<table border=\"1\" class=\"dataframe\">\n",
       "  <thead>\n",
       "    <tr style=\"text-align: right;\">\n",
       "      <th></th>\n",
       "      <th>Id</th>\n",
       "      <th>SalePrice</th>\n",
       "    </tr>\n",
       "  </thead>\n",
       "  <tbody>\n",
       "    <tr>\n",
       "      <th>0</th>\n",
       "      <td>2658</td>\n",
       "      <td>7.728039e+07</td>\n",
       "    </tr>\n",
       "    <tr>\n",
       "      <th>1</th>\n",
       "      <td>2718</td>\n",
       "      <td>8.188104e+07</td>\n",
       "    </tr>\n",
       "    <tr>\n",
       "      <th>2</th>\n",
       "      <td>2414</td>\n",
       "      <td>1.451785e+08</td>\n",
       "    </tr>\n",
       "    <tr>\n",
       "      <th>3</th>\n",
       "      <td>1989</td>\n",
       "      <td>7.266920e+07</td>\n",
       "    </tr>\n",
       "    <tr>\n",
       "      <th>4</th>\n",
       "      <td>625</td>\n",
       "      <td>8.397066e+07</td>\n",
       "    </tr>\n",
       "  </tbody>\n",
       "</table>\n",
       "</div>"
      ],
      "text/plain": [
       "     Id     SalePrice\n",
       "0  2658  7.728039e+07\n",
       "1  2718  8.188104e+07\n",
       "2  2414  1.451785e+08\n",
       "3  1989  7.266920e+07\n",
       "4   625  8.397066e+07"
      ]
     },
     "execution_count": 37,
     "metadata": {},
     "output_type": "execute_result"
    }
   ],
   "source": [
    "submission.head()"
   ]
  },
  {
   "cell_type": "code",
   "execution_count": 30,
   "metadata": {},
   "outputs": [],
   "source": [
    "submission.to_csv('../datasets/submissions.csv', index=False)"
   ]
  },
  {
   "cell_type": "code",
   "execution_count": 31,
   "metadata": {},
   "outputs": [
    {
     "data": {
      "image/png": "[encoded data removed]",
      "text/plain": [
       "<Figure size 576x576 with 1 Axes>"
      ]
     },
     "metadata": {
      "needs_background": "light"
     },
     "output_type": "display_data"
    }
   ],
   "source": [
    "#plt.scatter(x=lasso_overfit_preds, y=y_test, c='r')\n",
    "plt.figure(figsize=(8,8))\n",
    "m,b = np.polyfit(x=lasso.predict(X_test), y=y_test, deg=1)\n",
    "plt.plot(lasso.predict(X_test), y_test, '.')\n",
    "plt.plot(lasso.predict(X_test), b + m * lasso.predict(X_test), '-', color='k')\n",
    "frame1 = plt.gca()\n",
    "#frame1.axes.get_xaxis().set_ticks([])\n",
    "#frame1.axes.get_yaxis().set_ticks([])\n",
    "plt.xlabel('Predicted Sale Price')\n",
    "plt.ylabel('Actual Sale Price')\n",
    "plt.title('Predicted Sale Price vs Actual Sale Price')\n",
    "plt.show()"
   ]
  },
  {
   "cell_type": "code",
   "execution_count": null,
   "metadata": {},
   "outputs": [],
   "source": []
  }
 ],
 "metadata": {
  "kernelspec": {
   "display_name": "Python 3",
   "language": "python",
   "name": "python3"
  },
  "language_info": {
   "codemirror_mode": {
    "name": "ipython",
    "version": 3
   },
   "file_extension": ".py",
   "mimetype": "text/x-python",
   "name": "python",
   "nbconvert_exporter": "python",
   "pygments_lexer": "ipython3",
   "version": "3.6.8"
  }
 },
 "nbformat": 4,
 "nbformat_minor": 2
}
